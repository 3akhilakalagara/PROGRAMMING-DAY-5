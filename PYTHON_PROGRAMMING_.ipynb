{
  "cells": [
    {
      "cell_type": "markdown",
      "source": [
        "**Operation Choices**\n",
        "\n",
        "**Write a function OperationChoices(c, a, b) which will accept three\n",
        "integers as an argument, and the function will return:\n",
        "(a + b) if the value of c=1.\n",
        "(a – b) if the value of c=2.\n",
        "(a * b) if the value of c=3.\n",
        "(a / b) if the value of c=4.\n",
        "Sample Test Case:\n",
        "Input:\n",
        "2\n",
        "15\n",
        "20\n",
        "Output:\n",
        "-5**"
      ],
      "metadata": {
        "id": "ZmNFR49Canbj"
      }
    },
    {
      "cell_type": "code",
      "execution_count": null,
      "metadata": {
        "colab": {
          "base_uri": "https://localhost:8080/"
        },
        "id": "SNUEHNhaP9JI",
        "outputId": "36efae5a-f18b-41c2-b75c-b6111bb1d786"
      },
      "outputs": [
        {
          "name": "stdout",
          "output_type": "stream",
          "text": [
            "0\n"
          ]
        }
      ],
      "source": [
        "def Operations(c,a,b):\n",
        "  if c == 1:\n",
        "    return a+b\n",
        "  elif c == 2:\n",
        "    return a-b\n",
        "  elif c == 3:\n",
        "    return a*b\n",
        "  elif c == 4:\n",
        "    return a/b\n",
        "  else:\n",
        "    return \"Invalid Operation\"\n",
        "c=2\n",
        "a=5\n",
        "b=5\n",
        "print(Operations(c,a,b))"
      ]
    },
    {
      "cell_type": "markdown",
      "source": [
        "**Check Password**\n",
        "\n",
        "**Write a function CheckPassword(str) which will accept the string as an\n",
        "argument or parameter and validates the password. It will return 1 if\n",
        "the conditions are satisfied else it’ll return 0?\n",
        "The password is valid if it satisfies the below conditions:\n",
        "It should contain at least 4 characters.\n",
        "At least 1 numeric digit should be present.\n",
        "1 Capital letter should be there.\n",
        "Password should not contain space or slash.\n",
        "The starting character should not be a number.\n",
        "Sample Test Case:\n",
        "Input:\n",
        "bB1_89\n",
        "Output:\n",
        "1**"
      ],
      "metadata": {
        "id": "36hy5jvacXE2"
      }
    },
    {
      "cell_type": "code",
      "execution_count": null,
      "metadata": {
        "colab": {
          "base_uri": "https://localhost:8080/"
        },
        "id": "ufTxJl3xQb79",
        "outputId": "5589147d-f319-4fa1-d7ea-eda29d96780a"
      },
      "outputs": [
        {
          "name": "stdout",
          "output_type": "stream",
          "text": [
            "ntr@45\n",
            "0\n"
          ]
        }
      ],
      "source": [
        "def CheckPassword(str,n):\n",
        "  if n<4:\n",
        "    return 0\n",
        "  if str[0] == \"\":\n",
        "    return 0\n",
        "  cap = 0\n",
        "  num = 0\n",
        "  for i in range(n):\n",
        "    if str[i]>='A' and str[i]<='Z':\n",
        "      cap += 1\n",
        "    if str[i]==\"\" or str[i]=='/':\n",
        "      return 0\n",
        "    elif str[i].isdigit():\n",
        "      num +=1\n",
        "  if cap > 0 and num > 0:\n",
        "    return 1\n",
        "  else:\n",
        "    return 0\n",
        "str = input()\n",
        "n = len(str)\n",
        "print(CheckPassword(str,n))\n"
      ]
    },
    {
      "cell_type": "markdown",
      "source": [
        "**Find Maximum In An Array**\n",
        "\n",
        "**Write a function FindMaxInArray, which will find the greatest number\n",
        "from an array with its desired index? The greatest number and its\n",
        "desired index should be printed in separate lines.\n",
        "Sample Test Case:\n",
        "Input:\n",
        "10\n",
        "15 78 96 17 20 65 14 36 18 20\n",
        "Output:\n",
        "96\n",
        "2**"
      ],
      "metadata": {
        "id": "k1-8wSK0ceDq"
      }
    },
    {
      "cell_type": "code",
      "execution_count": null,
      "metadata": {
        "colab": {
          "base_uri": "https://localhost:8080/"
        },
        "id": "nJK8pTLCSLRW",
        "outputId": "e51cee5c-7cf7-42b4-eb53-385bd4c9bcb4"
      },
      "outputs": [
        {
          "name": "stdout",
          "output_type": "stream",
          "text": [
            "1234\n",
            "3\n",
            "3\n",
            "0\n"
          ]
        }
      ],
      "source": [
        "def FindMax(arr):\n",
        "  max_val = max(arr)\n",
        "  max_ind = arr.index(max_val)\n",
        "  print(max_val)\n",
        "  print(max_ind)\n",
        "n=int(input())\n",
        "arr = list(map(int,input().split()))\n",
        "FindMax(arr)"
      ]
    },
    {
      "cell_type": "markdown",
      "source": [
        "**Calculate Binary Operations**\n",
        "\n",
        "**Write a function CalculateBinaryOperations(str) that accepts the string\n",
        "as an argument or parameter. The string should contains the binary\n",
        "numbers with their operators OR, AND, and XOR?\n",
        "A Means the AND Operation.\n",
        "B Means the OR Operation.\n",
        "C Means the XOR Operation.\n",
        "By scanning the given string from left to right you’ve to calculate the\n",
        "string and by taking one operator at a time then return the desired\n",
        "output.\n",
        "Conditions:\n",
        "The priority of the operator is not required.\n",
        "The length of the string is always Odd.\n",
        "If the length of the string is null then return -1.\n",
        "Sample Test Case:\n",
        "Input:\n",
        "1C0C1C1A0B1\n",
        "Output:\n",
        "1**"
      ],
      "metadata": {
        "id": "Jnb2okbQckX6"
      }
    },
    {
      "cell_type": "code",
      "execution_count": 12,
      "metadata": {
        "colab": {
          "base_uri": "https://localhost:8080/"
        },
        "id": "LEmW1tTUSyWg",
        "outputId": "a4a38a2a-c81b-4576-a82d-e218b404467f"
      },
      "outputs": [
        {
          "output_type": "stream",
          "name": "stdout",
          "text": [
            "1A0A1\n",
            "0\n"
          ]
        }
      ],
      "source": [
        "def Operations(str):\n",
        "  a=int(str[0])\n",
        "  i=1\n",
        "  while i<len(str):\n",
        "    if str[i] == 'A':\n",
        "      a &= int(str[i+1])\n",
        "    elif str[i] == 'B':\n",
        "      a |= int(str[i+1])\n",
        "    else:\n",
        "      a ^= int(str[i+1])\n",
        "    i += 2\n",
        "  return a\n",
        "str = input()\n",
        "print(Operations(str))"
      ]
    },
    {
      "cell_type": "markdown",
      "source": [
        "**Small Large Sum**\n",
        "**Write a function SmallLargeSum(array) which accepts the array as an argument or\n",
        "parameter, that performs the addition of the second largest element from the\n",
        "even location with the second largest element from an odd location?\n",
        "Rules:\n",
        "All the array elements are unique.\n",
        "If the length of the array is 3 or less than 3, then return 0.\n",
        "If Array is empty then return zero.\n",
        "Sample Test Case 1:\n",
        "Input:\n",
        "6\n",
        "3 2 1 7 5 4\n",
        "Output:\n",
        "7\n",
        "Explanation: The second largest element in the even locations (3, 1, 5) is 3. The\n",
        "second largest element in the odd locations (2, 7, 4) is 4. So the addition of 3 and\n",
        "4 is 7. So the answer is 7.\n",
        "Sample Test Case 2:\n",
        "Input:\n",
        "7\n",
        "4 0 7 9 6 4 2\n",
        "Output:\n",
        "10**"
      ],
      "metadata": {
        "id": "o3U7bNoUctIq"
      }
    },
    {
      "cell_type": "code",
      "source": [
        "length = int(input())\n",
        "arr = list(map(int, input().split()))\n",
        "if len(arr) > 3:\n",
        "  even_arr = []\n",
        "  odd_arr = []\n",
        "  for i in range(length):\n",
        "      if i%2==0:\n",
        "          even_arr.append(arr[i])\n",
        "      else:\n",
        "          odd_arr.append(arr[i])\n",
        "  even_arr = sorted(even_arr)\n",
        "  odd_arr = sorted(odd_arr)\n",
        "  if len(even_arr) > 1 and len(odd_arr) > 1:\n",
        "    print(even_arr[-2]+odd_arr[-2])\n",
        "  else:\n",
        "    print(0)\n",
        "else:\n",
        "  print(0)"
      ],
      "metadata": {
        "colab": {
          "base_uri": "https://localhost:8080/"
        },
        "id": "sqyFKoscc2P0",
        "outputId": "a66e5017-94ed-45be-9250-a4a997586a46"
      },
      "execution_count": 16,
      "outputs": [
        {
          "output_type": "stream",
          "name": "stdout",
          "text": [
            "6\n",
            "12345\n",
            "0\n"
          ]
        }
      ]
    }
  ],
  "metadata": {
    "colab": {
      "provenance": []
    },
    "kernelspec": {
      "display_name": "Python 3",
      "name": "python3"
    },
    "language_info": {
      "name": "python"
    }
  },
  "nbformat": 4,
  "nbformat_minor": 0
}